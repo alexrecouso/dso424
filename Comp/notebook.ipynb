{
 "cells": [
  {
   "cell_type": "code",
   "metadata": {
    "tags": [],
    "cell_id": "00000-384345a2-8fe8-4c89-b92a-137be7ec10e2",
    "deepnote_to_be_reexecuted": false,
    "source_hash": "b6a560d3",
    "execution_start": 1638651094645,
    "deepnote_cell_type": "code"
   },
   "source": "# Alejandro Recouso Ferreiro - recouso@usc.edu",
   "execution_count": 1,
   "outputs": []
  },
  {
   "cell_type": "code",
   "source": "# first install missing libraries\n!pip install xgboost",
   "metadata": {
    "tags": [],
    "cell_id": "00001-de134f8e-f8cc-4aa1-9e04-799dc4f6c447",
    "deepnote_to_be_reexecuted": false,
    "source_hash": "b4c79647",
    "execution_start": 1638651094646,
    "execution_millis": 7354,
    "deepnote_cell_type": "code"
   },
   "outputs": [
    {
     "name": "stdout",
     "text": "Requirement already satisfied: xgboost in /root/venv/lib/python3.7/site-packages (1.5.1)\nRequirement already satisfied: scipy in /shared-libs/python3.7/py/lib/python3.7/site-packages (from xgboost) (1.7.2)\nRequirement already satisfied: numpy in /shared-libs/python3.7/py/lib/python3.7/site-packages (from xgboost) (1.19.5)\n\u001b[33mWARNING: You are using pip version 20.1.1; however, version 21.3.1 is available.\nYou should consider upgrading via the '/root/venv/bin/python -m pip install --upgrade pip' command.\u001b[0m\n",
     "output_type": "stream"
    }
   ],
   "execution_count": 2
  },
  {
   "cell_type": "code",
   "source": "# import relevant libraries\n\nimport numpy as np\nimport pandas as pd\n\nimport seaborn as sns\nimport matplotlib.pyplot as plt\n\nimport xgboost as xgb\nfrom xgboost import plot_importance, plot_tree\nfrom sklearn.preprocessing import StandardScaler\nfrom sklearn.metrics import mean_squared_error, mean_absolute_error\nplt.style.use('fivethirtyeight')",
   "metadata": {
    "tags": [],
    "cell_id": "00001-bb09b3eb-fbb3-4217-9875-9c4d5cae96a9",
    "deepnote_to_be_reexecuted": false,
    "source_hash": "f98515c1",
    "execution_start": 1638651102007,
    "execution_millis": 3240,
    "deepnote_cell_type": "code"
   },
   "outputs": [],
   "execution_count": 3
  },
  {
   "cell_type": "code",
   "source": "data = pd.read_csv('CompetitionDataPython.csv', parse_dates=[0], index_col=[0])",
   "metadata": {
    "tags": [],
    "cell_id": "00003-2c9a15e5-9d8b-44a8-addd-a6634ca2b3b9",
    "deepnote_to_be_reexecuted": false,
    "source_hash": "78f5ae72",
    "execution_start": 1638652764392,
    "execution_millis": 22,
    "deepnote_cell_type": "code"
   },
   "outputs": [],
   "execution_count": 45
  },
  {
   "cell_type": "code",
   "source": "data.tail()",
   "metadata": {
    "tags": [],
    "cell_id": "00004-8796fe4d-039d-4919-a139-2f680304e9e7",
    "deepnote_to_be_reexecuted": false,
    "source_hash": "9a10eb86",
    "execution_start": 1638652765862,
    "execution_millis": 8,
    "deepnote_cell_type": "code"
   },
   "outputs": [
    {
     "output_type": "execute_result",
     "execution_count": 46,
     "data": {
      "application/vnd.deepnote.dataframe.v2+json": {
       "row_count": 5,
       "column_count": 6,
       "columns": [
        {
         "name": "Hour",
         "dtype": "int64",
         "stats": {
          "unique_count": 5,
          "nan_count": 0,
          "min": "20",
          "max": "24",
          "histogram": [
           {
            "bin_start": 20,
            "bin_end": 20.4,
            "count": 1
           },
           {
            "bin_start": 20.4,
            "bin_end": 20.8,
            "count": 0
           },
           {
            "bin_start": 20.8,
            "bin_end": 21.2,
            "count": 1
           },
           {
            "bin_start": 21.2,
            "bin_end": 21.6,
            "count": 0
           },
           {
            "bin_start": 21.6,
            "bin_end": 22,
            "count": 0
           },
           {
            "bin_start": 22,
            "bin_end": 22.4,
            "count": 1
           },
           {
            "bin_start": 22.4,
            "bin_end": 22.8,
            "count": 0
           },
           {
            "bin_start": 22.8,
            "bin_end": 23.2,
            "count": 1
           },
           {
            "bin_start": 23.2,
            "bin_end": 23.6,
            "count": 0
           },
           {
            "bin_start": 23.6,
            "bin_end": 24,
            "count": 1
           }
          ]
         }
        },
        {
         "name": "Temperature",
         "dtype": "object",
         "stats": {
          "unique_count": 5,
          "nan_count": 0,
          "categories": [
           {
            "name": "22,33",
            "count": 1
           },
           {
            "name": "20,67",
            "count": 1
           },
           {
            "name": "3 others",
            "count": 3
           }
          ]
         }
        },
        {
         "name": "Load",
         "dtype": "float64",
         "stats": {
          "unique_count": 0,
          "nan_count": 5,
          "min": null,
          "max": null,
          "histogram": [
           {
            "bin_start": 0,
            "bin_end": 0.1,
            "count": 0
           },
           {
            "bin_start": 0.1,
            "bin_end": 0.2,
            "count": 0
           },
           {
            "bin_start": 0.2,
            "bin_end": 0.30000000000000004,
            "count": 0
           },
           {
            "bin_start": 0.30000000000000004,
            "bin_end": 0.4,
            "count": 0
           },
           {
            "bin_start": 0.4,
            "bin_end": 0.5,
            "count": 0
           },
           {
            "bin_start": 0.5,
            "bin_end": 0.6000000000000001,
            "count": 0
           },
           {
            "bin_start": 0.6000000000000001,
            "bin_end": 0.7000000000000001,
            "count": 0
           },
           {
            "bin_start": 0.7000000000000001,
            "bin_end": 0.8,
            "count": 0
           },
           {
            "bin_start": 0.8,
            "bin_end": 0.9,
            "count": 0
           },
           {
            "bin_start": 0.9,
            "bin_end": 1,
            "count": 0
           }
          ]
         }
        },
        {
         "name": "Predicted.Load",
         "dtype": "float64",
         "stats": {
          "unique_count": 0,
          "nan_count": 5,
          "min": null,
          "max": null,
          "histogram": [
           {
            "bin_start": 0,
            "bin_end": 0.1,
            "count": 0
           },
           {
            "bin_start": 0.1,
            "bin_end": 0.2,
            "count": 0
           },
           {
            "bin_start": 0.2,
            "bin_end": 0.30000000000000004,
            "count": 0
           },
           {
            "bin_start": 0.30000000000000004,
            "bin_end": 0.4,
            "count": 0
           },
           {
            "bin_start": 0.4,
            "bin_end": 0.5,
            "count": 0
           },
           {
            "bin_start": 0.5,
            "bin_end": 0.6000000000000001,
            "count": 0
           },
           {
            "bin_start": 0.6000000000000001,
            "bin_end": 0.7000000000000001,
            "count": 0
           },
           {
            "bin_start": 0.7000000000000001,
            "bin_end": 0.8,
            "count": 0
           },
           {
            "bin_start": 0.8,
            "bin_end": 0.9,
            "count": 0
           },
           {
            "bin_start": 0.9,
            "bin_end": 1,
            "count": 0
           }
          ]
         }
        },
        {
         "name": "DaysOfWeek",
         "dtype": "object",
         "stats": {
          "unique_count": 1,
          "nan_count": 0,
          "categories": [
           {
            "name": "Monday",
            "count": 5
           }
          ]
         }
        },
        {
         "name": "Time",
         "dtype": "int64",
         "stats": {
          "unique_count": 5,
          "nan_count": 0,
          "min": "43844",
          "max": "43848",
          "histogram": [
           {
            "bin_start": 43844,
            "bin_end": 43844.4,
            "count": 1
           },
           {
            "bin_start": 43844.4,
            "bin_end": 43844.8,
            "count": 0
           },
           {
            "bin_start": 43844.8,
            "bin_end": 43845.2,
            "count": 1
           },
           {
            "bin_start": 43845.2,
            "bin_end": 43845.6,
            "count": 0
           },
           {
            "bin_start": 43845.6,
            "bin_end": 43846,
            "count": 0
           },
           {
            "bin_start": 43846,
            "bin_end": 43846.4,
            "count": 1
           },
           {
            "bin_start": 43846.4,
            "bin_end": 43846.8,
            "count": 0
           },
           {
            "bin_start": 43846.8,
            "bin_end": 43847.2,
            "count": 1
           },
           {
            "bin_start": 43847.2,
            "bin_end": 43847.6,
            "count": 0
           },
           {
            "bin_start": 43847.6,
            "bin_end": 43848,
            "count": 1
           }
          ]
         }
        },
        {
         "name": "_deepnote_index_column",
         "dtype": "datetime64[ns]"
        }
       ],
       "rows_top": [
        {
         "Hour": 20,
         "Temperature": "22,33",
         "Load": "nan",
         "Predicted.Load": "nan",
         "DaysOfWeek": "Monday",
         "Time": 43844,
         "_deepnote_index_column": "2012-12-31T00:00:00.000000"
        },
        {
         "Hour": 21,
         "Temperature": "20,67",
         "Load": "nan",
         "Predicted.Load": "nan",
         "DaysOfWeek": "Monday",
         "Time": 43845,
         "_deepnote_index_column": "2012-12-31T00:00:00.000000"
        },
        {
         "Hour": 22,
         "Temperature": "19,67",
         "Load": "nan",
         "Predicted.Load": "nan",
         "DaysOfWeek": "Monday",
         "Time": 43846,
         "_deepnote_index_column": "2012-12-31T00:00:00.000000"
        },
        {
         "Hour": 23,
         "Temperature": "19,33",
         "Load": "nan",
         "Predicted.Load": "nan",
         "DaysOfWeek": "Monday",
         "Time": 43847,
         "_deepnote_index_column": "2012-12-31T00:00:00.000000"
        },
        {
         "Hour": 24,
         "Temperature": "18,33",
         "Load": "nan",
         "Predicted.Load": "nan",
         "DaysOfWeek": "Monday",
         "Time": 43848,
         "_deepnote_index_column": "2012-12-31T00:00:00.000000"
        }
       ],
       "rows_bottom": null
      },
      "text/plain": "            Hour Temperature  Load  Predicted.Load DaysOfWeek   Time\nDate                                                                \n2012-12-31    20       22,33   NaN             NaN     Monday  43844\n2012-12-31    21       20,67   NaN             NaN     Monday  43845\n2012-12-31    22       19,67   NaN             NaN     Monday  43846\n2012-12-31    23       19,33   NaN             NaN     Monday  43847\n2012-12-31    24       18,33   NaN             NaN     Monday  43848",
      "text/html": "<div>\n<style scoped>\n    .dataframe tbody tr th:only-of-type {\n        vertical-align: middle;\n    }\n\n    .dataframe tbody tr th {\n        vertical-align: top;\n    }\n\n    .dataframe thead th {\n        text-align: right;\n    }\n</style>\n<table border=\"1\" class=\"dataframe\">\n  <thead>\n    <tr style=\"text-align: right;\">\n      <th></th>\n      <th>Hour</th>\n      <th>Temperature</th>\n      <th>Load</th>\n      <th>Predicted.Load</th>\n      <th>DaysOfWeek</th>\n      <th>Time</th>\n    </tr>\n    <tr>\n      <th>Date</th>\n      <th></th>\n      <th></th>\n      <th></th>\n      <th></th>\n      <th></th>\n      <th></th>\n    </tr>\n  </thead>\n  <tbody>\n    <tr>\n      <th>2012-12-31</th>\n      <td>20</td>\n      <td>22,33</td>\n      <td>NaN</td>\n      <td>NaN</td>\n      <td>Monday</td>\n      <td>43844</td>\n    </tr>\n    <tr>\n      <th>2012-12-31</th>\n      <td>21</td>\n      <td>20,67</td>\n      <td>NaN</td>\n      <td>NaN</td>\n      <td>Monday</td>\n      <td>43845</td>\n    </tr>\n    <tr>\n      <th>2012-12-31</th>\n      <td>22</td>\n      <td>19,67</td>\n      <td>NaN</td>\n      <td>NaN</td>\n      <td>Monday</td>\n      <td>43846</td>\n    </tr>\n    <tr>\n      <th>2012-12-31</th>\n      <td>23</td>\n      <td>19,33</td>\n      <td>NaN</td>\n      <td>NaN</td>\n      <td>Monday</td>\n      <td>43847</td>\n    </tr>\n    <tr>\n      <th>2012-12-31</th>\n      <td>24</td>\n      <td>18,33</td>\n      <td>NaN</td>\n      <td>NaN</td>\n      <td>Monday</td>\n      <td>43848</td>\n    </tr>\n  </tbody>\n</table>\n</div>"
     },
     "metadata": {}
    }
   ],
   "execution_count": 46
  },
  {
   "cell_type": "code",
   "source": "data['Temperature'] = data['Temperature'].str.replace(',', '.').astype(float)",
   "metadata": {
    "tags": [],
    "cell_id": "00005-54e7c2dc-0793-40f8-b50b-2cc372137b3c",
    "deepnote_to_be_reexecuted": false,
    "source_hash": "f3c2faa9",
    "execution_start": 1638652767644,
    "execution_millis": 12,
    "deepnote_cell_type": "code"
   },
   "outputs": [],
   "execution_count": 47
  },
  {
   "cell_type": "code",
   "source": "split_date = '01-Jan-2012'\ndata_train = data.loc[data.index < split_date].copy()\ndata_test = data.loc[data.index >= split_date].copy()",
   "metadata": {
    "tags": [],
    "cell_id": "00005-1c079719-a23c-4d65-8378-681752cc70a1",
    "deepnote_to_be_reexecuted": false,
    "source_hash": "40b431fb",
    "execution_start": 1638652769365,
    "execution_millis": 7,
    "deepnote_cell_type": "code"
   },
   "outputs": [],
   "execution_count": 48
  },
  {
   "cell_type": "code",
   "source": "data_train.tail()",
   "metadata": {
    "tags": [],
    "cell_id": "00006-c93d7252-c7d1-4bdb-babc-7c2ee074c137",
    "deepnote_to_be_reexecuted": false,
    "source_hash": "da361222",
    "execution_start": 1638652770236,
    "execution_millis": 14,
    "deepnote_cell_type": "code"
   },
   "outputs": [
    {
     "output_type": "execute_result",
     "execution_count": 49,
     "data": {
      "application/vnd.deepnote.dataframe.v2+json": {
       "row_count": 5,
       "column_count": 6,
       "columns": [
        {
         "name": "Hour",
         "dtype": "int64",
         "stats": {
          "unique_count": 5,
          "nan_count": 0,
          "min": "20",
          "max": "24",
          "histogram": [
           {
            "bin_start": 20,
            "bin_end": 20.4,
            "count": 1
           },
           {
            "bin_start": 20.4,
            "bin_end": 20.8,
            "count": 0
           },
           {
            "bin_start": 20.8,
            "bin_end": 21.2,
            "count": 1
           },
           {
            "bin_start": 21.2,
            "bin_end": 21.6,
            "count": 0
           },
           {
            "bin_start": 21.6,
            "bin_end": 22,
            "count": 0
           },
           {
            "bin_start": 22,
            "bin_end": 22.4,
            "count": 1
           },
           {
            "bin_start": 22.4,
            "bin_end": 22.8,
            "count": 0
           },
           {
            "bin_start": 22.8,
            "bin_end": 23.2,
            "count": 1
           },
           {
            "bin_start": 23.2,
            "bin_end": 23.6,
            "count": 0
           },
           {
            "bin_start": 23.6,
            "bin_end": 24,
            "count": 1
           }
          ]
         }
        },
        {
         "name": "Temperature",
         "dtype": "float64",
         "stats": {
          "unique_count": 2,
          "nan_count": 0,
          "min": "39.0",
          "max": "39.33",
          "histogram": [
           {
            "bin_start": 39,
            "bin_end": 39.033,
            "count": 2
           },
           {
            "bin_start": 39.033,
            "bin_end": 39.066,
            "count": 0
           },
           {
            "bin_start": 39.066,
            "bin_end": 39.099,
            "count": 0
           },
           {
            "bin_start": 39.099,
            "bin_end": 39.132,
            "count": 0
           },
           {
            "bin_start": 39.132,
            "bin_end": 39.165,
            "count": 0
           },
           {
            "bin_start": 39.165,
            "bin_end": 39.198,
            "count": 0
           },
           {
            "bin_start": 39.198,
            "bin_end": 39.231,
            "count": 0
           },
           {
            "bin_start": 39.231,
            "bin_end": 39.263999999999996,
            "count": 0
           },
           {
            "bin_start": 39.263999999999996,
            "bin_end": 39.297,
            "count": 0
           },
           {
            "bin_start": 39.297,
            "bin_end": 39.33,
            "count": 3
           }
          ]
         }
        },
        {
         "name": "Load",
         "dtype": "float64",
         "stats": {
          "unique_count": 5,
          "nan_count": 0,
          "min": "10335.0",
          "max": "11812.0",
          "histogram": [
           {
            "bin_start": 10335,
            "bin_end": 10482.7,
            "count": 1
           },
           {
            "bin_start": 10482.7,
            "bin_end": 10630.4,
            "count": 0
           },
           {
            "bin_start": 10630.4,
            "bin_end": 10778.1,
            "count": 0
           },
           {
            "bin_start": 10778.1,
            "bin_end": 10925.8,
            "count": 1
           },
           {
            "bin_start": 10925.8,
            "bin_end": 11073.5,
            "count": 0
           },
           {
            "bin_start": 11073.5,
            "bin_end": 11221.2,
            "count": 1
           },
           {
            "bin_start": 11221.2,
            "bin_end": 11368.9,
            "count": 0
           },
           {
            "bin_start": 11368.9,
            "bin_end": 11516.6,
            "count": 0
           },
           {
            "bin_start": 11516.6,
            "bin_end": 11664.3,
            "count": 1
           },
           {
            "bin_start": 11664.3,
            "bin_end": 11812,
            "count": 1
           }
          ]
         }
        },
        {
         "name": "Predicted.Load",
         "dtype": "float64",
         "stats": {
          "unique_count": 0,
          "nan_count": 5,
          "min": null,
          "max": null,
          "histogram": [
           {
            "bin_start": 0,
            "bin_end": 0.1,
            "count": 0
           },
           {
            "bin_start": 0.1,
            "bin_end": 0.2,
            "count": 0
           },
           {
            "bin_start": 0.2,
            "bin_end": 0.30000000000000004,
            "count": 0
           },
           {
            "bin_start": 0.30000000000000004,
            "bin_end": 0.4,
            "count": 0
           },
           {
            "bin_start": 0.4,
            "bin_end": 0.5,
            "count": 0
           },
           {
            "bin_start": 0.5,
            "bin_end": 0.6000000000000001,
            "count": 0
           },
           {
            "bin_start": 0.6000000000000001,
            "bin_end": 0.7000000000000001,
            "count": 0
           },
           {
            "bin_start": 0.7000000000000001,
            "bin_end": 0.8,
            "count": 0
           },
           {
            "bin_start": 0.8,
            "bin_end": 0.9,
            "count": 0
           },
           {
            "bin_start": 0.9,
            "bin_end": 1,
            "count": 0
           }
          ]
         }
        },
        {
         "name": "DaysOfWeek",
         "dtype": "object",
         "stats": {
          "unique_count": 1,
          "nan_count": 0,
          "categories": [
           {
            "name": "Saturday",
            "count": 5
           }
          ]
         }
        },
        {
         "name": "Time",
         "dtype": "int64",
         "stats": {
          "unique_count": 5,
          "nan_count": 0,
          "min": "35060",
          "max": "35064",
          "histogram": [
           {
            "bin_start": 35060,
            "bin_end": 35060.4,
            "count": 1
           },
           {
            "bin_start": 35060.4,
            "bin_end": 35060.8,
            "count": 0
           },
           {
            "bin_start": 35060.8,
            "bin_end": 35061.2,
            "count": 1
           },
           {
            "bin_start": 35061.2,
            "bin_end": 35061.6,
            "count": 0
           },
           {
            "bin_start": 35061.6,
            "bin_end": 35062,
            "count": 0
           },
           {
            "bin_start": 35062,
            "bin_end": 35062.4,
            "count": 1
           },
           {
            "bin_start": 35062.4,
            "bin_end": 35062.8,
            "count": 0
           },
           {
            "bin_start": 35062.8,
            "bin_end": 35063.2,
            "count": 1
           },
           {
            "bin_start": 35063.2,
            "bin_end": 35063.6,
            "count": 0
           },
           {
            "bin_start": 35063.6,
            "bin_end": 35064,
            "count": 1
           }
          ]
         }
        },
        {
         "name": "_deepnote_index_column",
         "dtype": "datetime64[ns]"
        }
       ],
       "rows_top": [
        {
         "Hour": 20,
         "Temperature": 39.33,
         "Load": 11812,
         "Predicted.Load": "nan",
         "DaysOfWeek": "Saturday",
         "Time": 35060,
         "_deepnote_index_column": "2011-12-31T00:00:00.000000"
        },
        {
         "Hour": 21,
         "Temperature": 39.33,
         "Load": 11542,
         "Predicted.Load": "nan",
         "DaysOfWeek": "Saturday",
         "Time": 35061,
         "_deepnote_index_column": "2011-12-31T00:00:00.000000"
        },
        {
         "Hour": 22,
         "Temperature": 39,
         "Load": 11149,
         "Predicted.Load": "nan",
         "DaysOfWeek": "Saturday",
         "Time": 35062,
         "_deepnote_index_column": "2011-12-31T00:00:00.000000"
        },
        {
         "Hour": 23,
         "Temperature": 39.33,
         "Load": 10855,
         "Predicted.Load": "nan",
         "DaysOfWeek": "Saturday",
         "Time": 35063,
         "_deepnote_index_column": "2011-12-31T00:00:00.000000"
        },
        {
         "Hour": 24,
         "Temperature": 39,
         "Load": 10335,
         "Predicted.Load": "nan",
         "DaysOfWeek": "Saturday",
         "Time": 35064,
         "_deepnote_index_column": "2011-12-31T00:00:00.000000"
        }
       ],
       "rows_bottom": null
      },
      "text/plain": "            Hour  Temperature     Load  Predicted.Load DaysOfWeek   Time\nDate                                                                    \n2011-12-31    20        39.33  11812.0             NaN   Saturday  35060\n2011-12-31    21        39.33  11542.0             NaN   Saturday  35061\n2011-12-31    22        39.00  11149.0             NaN   Saturday  35062\n2011-12-31    23        39.33  10855.0             NaN   Saturday  35063\n2011-12-31    24        39.00  10335.0             NaN   Saturday  35064",
      "text/html": "<div>\n<style scoped>\n    .dataframe tbody tr th:only-of-type {\n        vertical-align: middle;\n    }\n\n    .dataframe tbody tr th {\n        vertical-align: top;\n    }\n\n    .dataframe thead th {\n        text-align: right;\n    }\n</style>\n<table border=\"1\" class=\"dataframe\">\n  <thead>\n    <tr style=\"text-align: right;\">\n      <th></th>\n      <th>Hour</th>\n      <th>Temperature</th>\n      <th>Load</th>\n      <th>Predicted.Load</th>\n      <th>DaysOfWeek</th>\n      <th>Time</th>\n    </tr>\n    <tr>\n      <th>Date</th>\n      <th></th>\n      <th></th>\n      <th></th>\n      <th></th>\n      <th></th>\n      <th></th>\n    </tr>\n  </thead>\n  <tbody>\n    <tr>\n      <th>2011-12-31</th>\n      <td>20</td>\n      <td>39.33</td>\n      <td>11812.0</td>\n      <td>NaN</td>\n      <td>Saturday</td>\n      <td>35060</td>\n    </tr>\n    <tr>\n      <th>2011-12-31</th>\n      <td>21</td>\n      <td>39.33</td>\n      <td>11542.0</td>\n      <td>NaN</td>\n      <td>Saturday</td>\n      <td>35061</td>\n    </tr>\n    <tr>\n      <th>2011-12-31</th>\n      <td>22</td>\n      <td>39.00</td>\n      <td>11149.0</td>\n      <td>NaN</td>\n      <td>Saturday</td>\n      <td>35062</td>\n    </tr>\n    <tr>\n      <th>2011-12-31</th>\n      <td>23</td>\n      <td>39.33</td>\n      <td>10855.0</td>\n      <td>NaN</td>\n      <td>Saturday</td>\n      <td>35063</td>\n    </tr>\n    <tr>\n      <th>2011-12-31</th>\n      <td>24</td>\n      <td>39.00</td>\n      <td>10335.0</td>\n      <td>NaN</td>\n      <td>Saturday</td>\n      <td>35064</td>\n    </tr>\n  </tbody>\n</table>\n</div>"
     },
     "metadata": {}
    }
   ],
   "execution_count": 49
  },
  {
   "cell_type": "code",
   "source": "def create_features(df, label=None):\n    df['temperature'] = df['Temperature']\n    df['date'] = df.index\n    df['hour'] = df['date'].dt.hour\n    df['dayofweek'] = df['date'].dt.dayofweek\n    df['quarter'] = df['date'].dt.quarter\n    df['month'] = df['date'].dt.month\n    df['year'] = df['date'].dt.year\n    df['dayofyear'] = df['date'].dt.dayofyear\n    df['dayofmonth'] = df['date'].dt.day\n    df['weekofyear'] = df['date'].dt.weekofyear\n    \n    X = df[['temperature', 'hour','dayofweek','quarter','month','year',\n           'dayofyear','dayofmonth','weekofyear']]\n    if label:\n        y = df[label]\n        return X, y\n    return X",
   "metadata": {
    "tags": [],
    "cell_id": "00007-014aa6d3-e6d6-489e-8fa6-cd54b52f36fc",
    "deepnote_to_be_reexecuted": false,
    "source_hash": "f8e308de",
    "execution_start": 1638652774256,
    "execution_millis": 0,
    "deepnote_cell_type": "code"
   },
   "outputs": [],
   "execution_count": 50
  },
  {
   "cell_type": "code",
   "source": "X_train, y_train = create_features(data_train, label='Load')\nX_test, y_test = create_features(data_test, label='Load')",
   "metadata": {
    "tags": [],
    "cell_id": "00008-5ea054b2-1646-4356-b678-10147cc18a27",
    "deepnote_to_be_reexecuted": false,
    "source_hash": "23be7e4b",
    "execution_start": 1638652777793,
    "execution_millis": 310,
    "deepnote_output_heights": [
     null,
     607
    ],
    "deepnote_cell_type": "code"
   },
   "outputs": [
    {
     "name": "stderr",
     "text": "/shared-libs/python3.7/py-core/lib/python3.7/site-packages/ipykernel_launcher.py:11: FutureWarning: Series.dt.weekofyear and Series.dt.week have been deprecated.  Please use Series.dt.isocalendar().week instead.\n  # This is added back by InteractiveShellApp.init_path()\n",
     "output_type": "stream"
    }
   ],
   "execution_count": 51
  },
  {
   "cell_type": "code",
   "source": "reg = xgb.XGBRegressor(n_estimators=50)\neval_set = [(X_train, y_train)]\nreg.fit(X_train, y_train,\n        eval_set=eval_set,\n        early_stopping_rounds=15,\n        verbose = False)",
   "metadata": {
    "tags": [],
    "cell_id": "00010-56304ea1-3422-42fa-844f-8f88a3af4ddf",
    "deepnote_to_be_reexecuted": false,
    "source_hash": "cd73b0a4",
    "execution_start": 1638656179448,
    "execution_millis": 11537,
    "deepnote_output_heights": [
     174.6875
    ],
    "deepnote_cell_type": "code"
   },
   "outputs": [
    {
     "output_type": "execute_result",
     "execution_count": 114,
     "data": {
      "text/plain": "XGBRegressor(base_score=0.5, booster='gbtree', colsample_bylevel=1,\n             colsample_bynode=1, colsample_bytree=1, enable_categorical=False,\n             gamma=0, gpu_id=-1, importance_type=None,\n             interaction_constraints='', learning_rate=0.300000012,\n             max_delta_step=0, max_depth=6, min_child_weight=1, missing=nan,\n             monotone_constraints='()', n_estimators=50, n_jobs=4,\n             num_parallel_tree=1, predictor='auto', random_state=0, reg_alpha=0,\n             reg_lambda=1, scale_pos_weight=1, subsample=1, tree_method='exact',\n             validate_parameters=1, verbosity=None)"
     },
     "metadata": {}
    }
   ],
   "execution_count": 114
  },
  {
   "cell_type": "code",
   "source": "_ = plot_importance(reg, height=0.9)",
   "metadata": {
    "tags": [],
    "cell_id": "00011-fdefe2f8-b885-4b64-b1d7-3ed7bdfa8860",
    "deepnote_to_be_reexecuted": false,
    "source_hash": "2e533d02",
    "execution_start": 1638656193721,
    "execution_millis": 547,
    "deepnote_output_heights": [
     310
    ],
    "deepnote_cell_type": "code"
   },
   "outputs": [
    {
     "data": {
      "text/plain": "<Figure size 432x288 with 1 Axes>",
      "image/png": "[encoded data removed]"
     },
     "metadata": {
      "image/png": {
       "width": 518,
       "height": 308
      }
     },
     "output_type": "display_data"
    }
   ],
   "execution_count": 115
  },
  {
   "cell_type": "code",
   "source": "data_test['load_pred'] = reg.predict(X_test)\ndata_train['load_pred_train'] = reg.predict(X_train)\ndata_all = pd.concat([data_test, data_train], sort=False)",
   "metadata": {
    "tags": [],
    "cell_id": "00012-85d90666-8047-4991-af7a-7a881995b94a",
    "deepnote_to_be_reexecuted": false,
    "source_hash": "905c6630",
    "execution_start": 1638656196159,
    "execution_millis": 167,
    "deepnote_cell_type": "code"
   },
   "outputs": [],
   "execution_count": 116
  },
  {
   "cell_type": "code",
   "source": "_ = data_all[['Load','load_pred']].plot(figsize=(15, 5))",
   "metadata": {
    "tags": [],
    "cell_id": "00013-052d5515-9019-456e-bedb-7a178a6423ec",
    "deepnote_to_be_reexecuted": false,
    "source_hash": "7b6cf693",
    "execution_start": 1638656198174,
    "execution_millis": 823,
    "deepnote_output_heights": [
     289.015625
    ],
    "deepnote_cell_type": "code"
   },
   "outputs": [
    {
     "data": {
      "text/plain": "<Figure size 1080x360 with 1 Axes>",
      "image/png": "[encoded data removed]"
     },
     "metadata": {
      "image/png": {
       "width": 1001,
       "height": 314
      }
     },
     "output_type": "display_data"
    }
   ],
   "execution_count": 117
  },
  {
   "cell_type": "code",
   "source": "data_all.to_csv(r'python_pred_xgb.csv')",
   "metadata": {
    "tags": [],
    "cell_id": "00014-f28078dc-b309-4f8c-a5d4-5274d788dfb2",
    "deepnote_to_be_reexecuted": false,
    "source_hash": "5dc6c70f",
    "execution_start": 1638656203954,
    "execution_millis": 1507,
    "deepnote_cell_type": "code"
   },
   "outputs": [],
   "execution_count": 118
  },
  {
   "cell_type": "markdown",
   "source": "<a style='text-decoration:none;line-height:16px;display:flex;color:#5B5B62;padding:10px;justify-content:end;' href='https://deepnote.com?utm_source=created-in-deepnote-cell&projectId=53d6ad8e-f374-42cb-979d-3d9515656bf8' target=\"_blank\">\n<img alt='Created in deepnote.com' style='display:inline;max-height:16px;margin:0px;margin-right:7.5px;' src='data:image/svg+xml;base64,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' > </img>\nCreated in <span style='font-weight:600;margin-left:4px;'>Deepnote</span></a>",
   "metadata": {
    "tags": [],
    "created_in_deepnote_cell": true,
    "deepnote_cell_type": "markdown"
   }
  }
 ],
 "nbformat": 4,
 "nbformat_minor": 2,
 "metadata": {
  "orig_nbformat": 2,
  "deepnote": {
   "is_reactive": false
  },
  "deepnote_notebook_id": "3203d01f-0412-4e4c-8e08-e49085c28134",
  "deepnote_execution_queue": []
 }
}